{
 "cells": [
  {
   "cell_type": "code",
   "execution_count": 1,
   "id": "123b88e0",
   "metadata": {},
   "outputs": [],
   "source": [
    "import pandas as pd"
   ]
  },
  {
   "cell_type": "markdown",
   "id": "6197974b",
   "metadata": {},
   "source": [
    "## Show all review CSV files"
   ]
  },
  {
   "cell_type": "code",
   "execution_count": 2,
   "id": "d992cd4f",
   "metadata": {},
   "outputs": [],
   "source": [
    "google_df = pd.read_csv(\"csv_files/google.csv\", encoding='latin-1') #need latin-1 encoding for the google reviews found through trial & error"
   ]
  },
  {
   "cell_type": "code",
   "execution_count": 3,
   "id": "c3fe286d",
   "metadata": {},
   "outputs": [
    {
     "data": {
      "text/html": [
       "<div>\n",
       "<style scoped>\n",
       "    .dataframe tbody tr th:only-of-type {\n",
       "        vertical-align: middle;\n",
       "    }\n",
       "\n",
       "    .dataframe tbody tr th {\n",
       "        vertical-align: top;\n",
       "    }\n",
       "\n",
       "    .dataframe thead th {\n",
       "        text-align: right;\n",
       "    }\n",
       "</style>\n",
       "<table border=\"1\" class=\"dataframe\">\n",
       "  <thead>\n",
       "    <tr style=\"text-align: right;\">\n",
       "      <th></th>\n",
       "      <th>date</th>\n",
       "      <th>rating</th>\n",
       "      <th>review_text</th>\n",
       "    </tr>\n",
       "  </thead>\n",
       "  <tbody>\n",
       "    <tr>\n",
       "      <th>0</th>\n",
       "      <td>3/9/2024 3:38</td>\n",
       "      <td>5</td>\n",
       "      <td>NaN</td>\n",
       "    </tr>\n",
       "    <tr>\n",
       "      <th>1</th>\n",
       "      <td>3/8/2024 10:42</td>\n",
       "      <td>5</td>\n",
       "      <td>Great selection of beer! We loved the atmosphere.</td>\n",
       "    </tr>\n",
       "    <tr>\n",
       "      <th>2</th>\n",
       "      <td>3/8/2024 9:55</td>\n",
       "      <td>5</td>\n",
       "      <td>Women's International Day at MadTree Brewery. ...</td>\n",
       "    </tr>\n",
       "    <tr>\n",
       "      <th>3</th>\n",
       "      <td>3/8/2024 2:07</td>\n",
       "      <td>5</td>\n",
       "      <td>Authentic place.  Great vibe</td>\n",
       "    </tr>\n",
       "    <tr>\n",
       "      <th>4</th>\n",
       "      <td>3/7/2024 14:36</td>\n",
       "      <td>5</td>\n",
       "      <td>NaN</td>\n",
       "    </tr>\n",
       "  </tbody>\n",
       "</table>\n",
       "</div>"
      ],
      "text/plain": [
       "             date  rating                                        review_text\n",
       "0   3/9/2024 3:38       5                                                NaN\n",
       "1  3/8/2024 10:42       5  Great selection of beer! We loved the atmosphere.\n",
       "2   3/8/2024 9:55       5  Women's International Day at MadTree Brewery. ...\n",
       "3   3/8/2024 2:07       5                       Authentic place.  Great vibe\n",
       "4  3/7/2024 14:36       5                                                NaN"
      ]
     },
     "execution_count": 3,
     "metadata": {},
     "output_type": "execute_result"
    }
   ],
   "source": [
    "google_df.head()"
   ]
  },
  {
   "cell_type": "code",
   "execution_count": 4,
   "id": "0f3dc172",
   "metadata": {},
   "outputs": [],
   "source": [
    "yelp_df = pd.read_csv(\"csv_files/yelp.csv\")"
   ]
  },
  {
   "cell_type": "code",
   "execution_count": 5,
   "id": "bb570c38",
   "metadata": {},
   "outputs": [
    {
     "data": {
      "text/html": [
       "<div>\n",
       "<style scoped>\n",
       "    .dataframe tbody tr th:only-of-type {\n",
       "        vertical-align: middle;\n",
       "    }\n",
       "\n",
       "    .dataframe tbody tr th {\n",
       "        vertical-align: top;\n",
       "    }\n",
       "\n",
       "    .dataframe thead th {\n",
       "        text-align: right;\n",
       "    }\n",
       "</style>\n",
       "<table border=\"1\" class=\"dataframe\">\n",
       "  <thead>\n",
       "    <tr style=\"text-align: right;\">\n",
       "      <th></th>\n",
       "      <th>date</th>\n",
       "      <th>rating</th>\n",
       "      <th>review_text</th>\n",
       "    </tr>\n",
       "  </thead>\n",
       "  <tbody>\n",
       "    <tr>\n",
       "      <th>0</th>\n",
       "      <td>14-Mar-24</td>\n",
       "      <td>2</td>\n",
       "      <td>What has happened to Madtree? It was the best ...</td>\n",
       "    </tr>\n",
       "    <tr>\n",
       "      <th>1</th>\n",
       "      <td>15-Feb-24</td>\n",
       "      <td>5</td>\n",
       "      <td>Great spot to hang out with a variety of optio...</td>\n",
       "    </tr>\n",
       "    <tr>\n",
       "      <th>2</th>\n",
       "      <td>25-Jan-24</td>\n",
       "      <td>5</td>\n",
       "      <td>MadTree Brewing is an absolute gem with an inc...</td>\n",
       "    </tr>\n",
       "    <tr>\n",
       "      <th>3</th>\n",
       "      <td>25-Jan-24</td>\n",
       "      <td>5</td>\n",
       "      <td>MadTree has long been our cherished gathering ...</td>\n",
       "    </tr>\n",
       "    <tr>\n",
       "      <th>4</th>\n",
       "      <td>18-Jan-24</td>\n",
       "      <td>5</td>\n",
       "      <td>I love coming here whether it's after work or ...</td>\n",
       "    </tr>\n",
       "  </tbody>\n",
       "</table>\n",
       "</div>"
      ],
      "text/plain": [
       "        date  rating                                        review_text\n",
       "0  14-Mar-24       2  What has happened to Madtree? It was the best ...\n",
       "1  15-Feb-24       5  Great spot to hang out with a variety of optio...\n",
       "2  25-Jan-24       5  MadTree Brewing is an absolute gem with an inc...\n",
       "3  25-Jan-24       5  MadTree has long been our cherished gathering ...\n",
       "4  18-Jan-24       5  I love coming here whether it's after work or ..."
      ]
     },
     "execution_count": 5,
     "metadata": {},
     "output_type": "execute_result"
    }
   ],
   "source": [
    "yelp_df.head()"
   ]
  },
  {
   "cell_type": "code",
   "execution_count": 6,
   "id": "d74957a3",
   "metadata": {},
   "outputs": [],
   "source": [
    "trip_df = pd.read_csv(\"csv_files/trip.csv\")"
   ]
  },
  {
   "cell_type": "code",
   "execution_count": 7,
   "id": "a222a391",
   "metadata": {},
   "outputs": [
    {
     "data": {
      "text/html": [
       "<div>\n",
       "<style scoped>\n",
       "    .dataframe tbody tr th:only-of-type {\n",
       "        vertical-align: middle;\n",
       "    }\n",
       "\n",
       "    .dataframe tbody tr th {\n",
       "        vertical-align: top;\n",
       "    }\n",
       "\n",
       "    .dataframe thead th {\n",
       "        text-align: right;\n",
       "    }\n",
       "</style>\n",
       "<table border=\"1\" class=\"dataframe\">\n",
       "  <thead>\n",
       "    <tr style=\"text-align: right;\">\n",
       "      <th></th>\n",
       "      <th>date</th>\n",
       "      <th>rating</th>\n",
       "      <th>review_text</th>\n",
       "    </tr>\n",
       "  </thead>\n",
       "  <tbody>\n",
       "    <tr>\n",
       "      <th>0</th>\n",
       "      <td>11/15/2023</td>\n",
       "      <td>5</td>\n",
       "      <td>Great environment and beers! Love the indoor/o...</td>\n",
       "    </tr>\n",
       "    <tr>\n",
       "      <th>1</th>\n",
       "      <td>10/30/2023</td>\n",
       "      <td>5</td>\n",
       "      <td>My husband and I went to Madtree this weekend ...</td>\n",
       "    </tr>\n",
       "    <tr>\n",
       "      <th>2</th>\n",
       "      <td>10/16/2023</td>\n",
       "      <td>3</td>\n",
       "      <td>Experiences here are pretty much hit or miss. ...</td>\n",
       "    </tr>\n",
       "    <tr>\n",
       "      <th>3</th>\n",
       "      <td>8/19/2023</td>\n",
       "      <td>5</td>\n",
       "      <td>Brews were great, and the flight was a good de...</td>\n",
       "    </tr>\n",
       "    <tr>\n",
       "      <th>4</th>\n",
       "      <td>11/30/2022</td>\n",
       "      <td>3</td>\n",
       "      <td>Pros: cool venue, quality pizza and drinks\\nCo...</td>\n",
       "    </tr>\n",
       "    <tr>\n",
       "      <th>5</th>\n",
       "      <td>5/12/2022</td>\n",
       "      <td>5</td>\n",
       "      <td>I love MadTree. I love their beer, I love thei...</td>\n",
       "    </tr>\n",
       "    <tr>\n",
       "      <th>6</th>\n",
       "      <td>8/31/2021</td>\n",
       "      <td>5</td>\n",
       "      <td>One of the best beer gardens I have been to in...</td>\n",
       "    </tr>\n",
       "  </tbody>\n",
       "</table>\n",
       "</div>"
      ],
      "text/plain": [
       "         date  rating                                        review_text\n",
       "0  11/15/2023       5  Great environment and beers! Love the indoor/o...\n",
       "1  10/30/2023       5  My husband and I went to Madtree this weekend ...\n",
       "2  10/16/2023       3  Experiences here are pretty much hit or miss. ...\n",
       "3   8/19/2023       5  Brews were great, and the flight was a good de...\n",
       "4  11/30/2022       3  Pros: cool venue, quality pizza and drinks\\nCo...\n",
       "5   5/12/2022       5  I love MadTree. I love their beer, I love thei...\n",
       "6   8/31/2021       5  One of the best beer gardens I have been to in..."
      ]
     },
     "execution_count": 7,
     "metadata": {},
     "output_type": "execute_result"
    }
   ],
   "source": [
    "trip_df"
   ]
  },
  {
   "cell_type": "markdown",
   "id": "2a6ce1d1",
   "metadata": {},
   "source": [
    "### We want to consolidate all of the reviews into one big CSV file"
   ]
  },
  {
   "cell_type": "code",
   "execution_count": 8,
   "id": "36627935",
   "metadata": {},
   "outputs": [
    {
     "data": {
      "text/plain": [
       "(500, 135, 7)"
      ]
     },
     "execution_count": 8,
     "metadata": {},
     "output_type": "execute_result"
    }
   ],
   "source": [
    "len(google_df), len(yelp_df), len(trip_df)"
   ]
  },
  {
   "cell_type": "markdown",
   "id": "abb4dcba",
   "metadata": {},
   "source": [
    "Convert 'date' column to standard format"
   ]
  },
  {
   "cell_type": "code",
   "execution_count": 9,
   "id": "cd856978",
   "metadata": {},
   "outputs": [],
   "source": [
    "google_df['date'] = pd.to_datetime(google_df['date'])"
   ]
  },
  {
   "cell_type": "code",
   "execution_count": 10,
   "id": "c1ff0a37",
   "metadata": {},
   "outputs": [
    {
     "data": {
      "text/html": [
       "<div>\n",
       "<style scoped>\n",
       "    .dataframe tbody tr th:only-of-type {\n",
       "        vertical-align: middle;\n",
       "    }\n",
       "\n",
       "    .dataframe tbody tr th {\n",
       "        vertical-align: top;\n",
       "    }\n",
       "\n",
       "    .dataframe thead th {\n",
       "        text-align: right;\n",
       "    }\n",
       "</style>\n",
       "<table border=\"1\" class=\"dataframe\">\n",
       "  <thead>\n",
       "    <tr style=\"text-align: right;\">\n",
       "      <th></th>\n",
       "      <th>date</th>\n",
       "      <th>rating</th>\n",
       "      <th>review_text</th>\n",
       "    </tr>\n",
       "  </thead>\n",
       "  <tbody>\n",
       "    <tr>\n",
       "      <th>0</th>\n",
       "      <td>2024-03-09 03:38:00</td>\n",
       "      <td>5</td>\n",
       "      <td>NaN</td>\n",
       "    </tr>\n",
       "    <tr>\n",
       "      <th>1</th>\n",
       "      <td>2024-03-08 10:42:00</td>\n",
       "      <td>5</td>\n",
       "      <td>Great selection of beer! We loved the atmosphere.</td>\n",
       "    </tr>\n",
       "    <tr>\n",
       "      <th>2</th>\n",
       "      <td>2024-03-08 09:55:00</td>\n",
       "      <td>5</td>\n",
       "      <td>Women's International Day at MadTree Brewery. ...</td>\n",
       "    </tr>\n",
       "    <tr>\n",
       "      <th>3</th>\n",
       "      <td>2024-03-08 02:07:00</td>\n",
       "      <td>5</td>\n",
       "      <td>Authentic place.  Great vibe</td>\n",
       "    </tr>\n",
       "    <tr>\n",
       "      <th>4</th>\n",
       "      <td>2024-03-07 14:36:00</td>\n",
       "      <td>5</td>\n",
       "      <td>NaN</td>\n",
       "    </tr>\n",
       "  </tbody>\n",
       "</table>\n",
       "</div>"
      ],
      "text/plain": [
       "                 date  rating  \\\n",
       "0 2024-03-09 03:38:00       5   \n",
       "1 2024-03-08 10:42:00       5   \n",
       "2 2024-03-08 09:55:00       5   \n",
       "3 2024-03-08 02:07:00       5   \n",
       "4 2024-03-07 14:36:00       5   \n",
       "\n",
       "                                         review_text  \n",
       "0                                                NaN  \n",
       "1  Great selection of beer! We loved the atmosphere.  \n",
       "2  Women's International Day at MadTree Brewery. ...  \n",
       "3                       Authentic place.  Great vibe  \n",
       "4                                                NaN  "
      ]
     },
     "execution_count": 10,
     "metadata": {},
     "output_type": "execute_result"
    }
   ],
   "source": [
    "google_df.head()"
   ]
  },
  {
   "cell_type": "code",
   "execution_count": 11,
   "id": "6887768c",
   "metadata": {},
   "outputs": [],
   "source": [
    "yelp_df['date'] = pd.to_datetime(yelp_df['date'])"
   ]
  },
  {
   "cell_type": "code",
   "execution_count": 12,
   "id": "ef6cede0",
   "metadata": {},
   "outputs": [
    {
     "data": {
      "text/html": [
       "<div>\n",
       "<style scoped>\n",
       "    .dataframe tbody tr th:only-of-type {\n",
       "        vertical-align: middle;\n",
       "    }\n",
       "\n",
       "    .dataframe tbody tr th {\n",
       "        vertical-align: top;\n",
       "    }\n",
       "\n",
       "    .dataframe thead th {\n",
       "        text-align: right;\n",
       "    }\n",
       "</style>\n",
       "<table border=\"1\" class=\"dataframe\">\n",
       "  <thead>\n",
       "    <tr style=\"text-align: right;\">\n",
       "      <th></th>\n",
       "      <th>date</th>\n",
       "      <th>rating</th>\n",
       "      <th>review_text</th>\n",
       "    </tr>\n",
       "  </thead>\n",
       "  <tbody>\n",
       "    <tr>\n",
       "      <th>0</th>\n",
       "      <td>2024-03-14</td>\n",
       "      <td>2</td>\n",
       "      <td>What has happened to Madtree? It was the best ...</td>\n",
       "    </tr>\n",
       "    <tr>\n",
       "      <th>1</th>\n",
       "      <td>2024-02-15</td>\n",
       "      <td>5</td>\n",
       "      <td>Great spot to hang out with a variety of optio...</td>\n",
       "    </tr>\n",
       "    <tr>\n",
       "      <th>2</th>\n",
       "      <td>2024-01-25</td>\n",
       "      <td>5</td>\n",
       "      <td>MadTree Brewing is an absolute gem with an inc...</td>\n",
       "    </tr>\n",
       "    <tr>\n",
       "      <th>3</th>\n",
       "      <td>2024-01-25</td>\n",
       "      <td>5</td>\n",
       "      <td>MadTree has long been our cherished gathering ...</td>\n",
       "    </tr>\n",
       "    <tr>\n",
       "      <th>4</th>\n",
       "      <td>2024-01-18</td>\n",
       "      <td>5</td>\n",
       "      <td>I love coming here whether it's after work or ...</td>\n",
       "    </tr>\n",
       "  </tbody>\n",
       "</table>\n",
       "</div>"
      ],
      "text/plain": [
       "        date  rating                                        review_text\n",
       "0 2024-03-14       2  What has happened to Madtree? It was the best ...\n",
       "1 2024-02-15       5  Great spot to hang out with a variety of optio...\n",
       "2 2024-01-25       5  MadTree Brewing is an absolute gem with an inc...\n",
       "3 2024-01-25       5  MadTree has long been our cherished gathering ...\n",
       "4 2024-01-18       5  I love coming here whether it's after work or ..."
      ]
     },
     "execution_count": 12,
     "metadata": {},
     "output_type": "execute_result"
    }
   ],
   "source": [
    "yelp_df.head()"
   ]
  },
  {
   "cell_type": "code",
   "execution_count": 13,
   "id": "a0a79d35",
   "metadata": {},
   "outputs": [],
   "source": [
    "trip_df['date'] = pd.to_datetime(trip_df['date'])"
   ]
  },
  {
   "cell_type": "code",
   "execution_count": 14,
   "id": "4ebe3c9f",
   "metadata": {},
   "outputs": [
    {
     "data": {
      "text/html": [
       "<div>\n",
       "<style scoped>\n",
       "    .dataframe tbody tr th:only-of-type {\n",
       "        vertical-align: middle;\n",
       "    }\n",
       "\n",
       "    .dataframe tbody tr th {\n",
       "        vertical-align: top;\n",
       "    }\n",
       "\n",
       "    .dataframe thead th {\n",
       "        text-align: right;\n",
       "    }\n",
       "</style>\n",
       "<table border=\"1\" class=\"dataframe\">\n",
       "  <thead>\n",
       "    <tr style=\"text-align: right;\">\n",
       "      <th></th>\n",
       "      <th>date</th>\n",
       "      <th>rating</th>\n",
       "      <th>review_text</th>\n",
       "    </tr>\n",
       "  </thead>\n",
       "  <tbody>\n",
       "    <tr>\n",
       "      <th>0</th>\n",
       "      <td>2023-11-15</td>\n",
       "      <td>5</td>\n",
       "      <td>Great environment and beers! Love the indoor/o...</td>\n",
       "    </tr>\n",
       "    <tr>\n",
       "      <th>1</th>\n",
       "      <td>2023-10-30</td>\n",
       "      <td>5</td>\n",
       "      <td>My husband and I went to Madtree this weekend ...</td>\n",
       "    </tr>\n",
       "    <tr>\n",
       "      <th>2</th>\n",
       "      <td>2023-10-16</td>\n",
       "      <td>3</td>\n",
       "      <td>Experiences here are pretty much hit or miss. ...</td>\n",
       "    </tr>\n",
       "    <tr>\n",
       "      <th>3</th>\n",
       "      <td>2023-08-19</td>\n",
       "      <td>5</td>\n",
       "      <td>Brews were great, and the flight was a good de...</td>\n",
       "    </tr>\n",
       "    <tr>\n",
       "      <th>4</th>\n",
       "      <td>2022-11-30</td>\n",
       "      <td>3</td>\n",
       "      <td>Pros: cool venue, quality pizza and drinks\\nCo...</td>\n",
       "    </tr>\n",
       "  </tbody>\n",
       "</table>\n",
       "</div>"
      ],
      "text/plain": [
       "        date  rating                                        review_text\n",
       "0 2023-11-15       5  Great environment and beers! Love the indoor/o...\n",
       "1 2023-10-30       5  My husband and I went to Madtree this weekend ...\n",
       "2 2023-10-16       3  Experiences here are pretty much hit or miss. ...\n",
       "3 2023-08-19       5  Brews were great, and the flight was a good de...\n",
       "4 2022-11-30       3  Pros: cool venue, quality pizza and drinks\\nCo..."
      ]
     },
     "execution_count": 14,
     "metadata": {},
     "output_type": "execute_result"
    }
   ],
   "source": [
    "trip_df.head()"
   ]
  },
  {
   "cell_type": "code",
   "execution_count": 15,
   "id": "845a53ae",
   "metadata": {},
   "outputs": [],
   "source": [
    "consolidated_df = pd.concat([google_df, yelp_df, trip_df], ignore_index=True)"
   ]
  },
  {
   "cell_type": "code",
   "execution_count": 16,
   "id": "d55575ba",
   "metadata": {},
   "outputs": [
    {
     "data": {
      "text/html": [
       "<div>\n",
       "<style scoped>\n",
       "    .dataframe tbody tr th:only-of-type {\n",
       "        vertical-align: middle;\n",
       "    }\n",
       "\n",
       "    .dataframe tbody tr th {\n",
       "        vertical-align: top;\n",
       "    }\n",
       "\n",
       "    .dataframe thead th {\n",
       "        text-align: right;\n",
       "    }\n",
       "</style>\n",
       "<table border=\"1\" class=\"dataframe\">\n",
       "  <thead>\n",
       "    <tr style=\"text-align: right;\">\n",
       "      <th></th>\n",
       "      <th>date</th>\n",
       "      <th>rating</th>\n",
       "      <th>review_text</th>\n",
       "    </tr>\n",
       "  </thead>\n",
       "  <tbody>\n",
       "    <tr>\n",
       "      <th>0</th>\n",
       "      <td>2024-03-09 03:38:00</td>\n",
       "      <td>5</td>\n",
       "      <td>NaN</td>\n",
       "    </tr>\n",
       "    <tr>\n",
       "      <th>1</th>\n",
       "      <td>2024-03-08 10:42:00</td>\n",
       "      <td>5</td>\n",
       "      <td>Great selection of beer! We loved the atmosphere.</td>\n",
       "    </tr>\n",
       "    <tr>\n",
       "      <th>2</th>\n",
       "      <td>2024-03-08 09:55:00</td>\n",
       "      <td>5</td>\n",
       "      <td>Women's International Day at MadTree Brewery. ...</td>\n",
       "    </tr>\n",
       "    <tr>\n",
       "      <th>3</th>\n",
       "      <td>2024-03-08 02:07:00</td>\n",
       "      <td>5</td>\n",
       "      <td>Authentic place.  Great vibe</td>\n",
       "    </tr>\n",
       "    <tr>\n",
       "      <th>4</th>\n",
       "      <td>2024-03-07 14:36:00</td>\n",
       "      <td>5</td>\n",
       "      <td>NaN</td>\n",
       "    </tr>\n",
       "    <tr>\n",
       "      <th>...</th>\n",
       "      <td>...</td>\n",
       "      <td>...</td>\n",
       "      <td>...</td>\n",
       "    </tr>\n",
       "    <tr>\n",
       "      <th>637</th>\n",
       "      <td>2023-10-16 00:00:00</td>\n",
       "      <td>3</td>\n",
       "      <td>Experiences here are pretty much hit or miss. ...</td>\n",
       "    </tr>\n",
       "    <tr>\n",
       "      <th>638</th>\n",
       "      <td>2023-08-19 00:00:00</td>\n",
       "      <td>5</td>\n",
       "      <td>Brews were great, and the flight was a good de...</td>\n",
       "    </tr>\n",
       "    <tr>\n",
       "      <th>639</th>\n",
       "      <td>2022-11-30 00:00:00</td>\n",
       "      <td>3</td>\n",
       "      <td>Pros: cool venue, quality pizza and drinks\\nCo...</td>\n",
       "    </tr>\n",
       "    <tr>\n",
       "      <th>640</th>\n",
       "      <td>2022-05-12 00:00:00</td>\n",
       "      <td>5</td>\n",
       "      <td>I love MadTree. I love their beer, I love thei...</td>\n",
       "    </tr>\n",
       "    <tr>\n",
       "      <th>641</th>\n",
       "      <td>2021-08-31 00:00:00</td>\n",
       "      <td>5</td>\n",
       "      <td>One of the best beer gardens I have been to in...</td>\n",
       "    </tr>\n",
       "  </tbody>\n",
       "</table>\n",
       "<p>642 rows × 3 columns</p>\n",
       "</div>"
      ],
      "text/plain": [
       "                   date  rating  \\\n",
       "0   2024-03-09 03:38:00       5   \n",
       "1   2024-03-08 10:42:00       5   \n",
       "2   2024-03-08 09:55:00       5   \n",
       "3   2024-03-08 02:07:00       5   \n",
       "4   2024-03-07 14:36:00       5   \n",
       "..                  ...     ...   \n",
       "637 2023-10-16 00:00:00       3   \n",
       "638 2023-08-19 00:00:00       5   \n",
       "639 2022-11-30 00:00:00       3   \n",
       "640 2022-05-12 00:00:00       5   \n",
       "641 2021-08-31 00:00:00       5   \n",
       "\n",
       "                                           review_text  \n",
       "0                                                  NaN  \n",
       "1    Great selection of beer! We loved the atmosphere.  \n",
       "2    Women's International Day at MadTree Brewery. ...  \n",
       "3                         Authentic place.  Great vibe  \n",
       "4                                                  NaN  \n",
       "..                                                 ...  \n",
       "637  Experiences here are pretty much hit or miss. ...  \n",
       "638  Brews were great, and the flight was a good de...  \n",
       "639  Pros: cool venue, quality pizza and drinks\\nCo...  \n",
       "640  I love MadTree. I love their beer, I love thei...  \n",
       "641  One of the best beer gardens I have been to in...  \n",
       "\n",
       "[642 rows x 3 columns]"
      ]
     },
     "execution_count": 16,
     "metadata": {},
     "output_type": "execute_result"
    }
   ],
   "source": [
    "consolidated_df"
   ]
  },
  {
   "cell_type": "markdown",
   "id": "9a9bc4b5",
   "metadata": {},
   "source": [
    "642 rows matches the summed lengths of each individual dataframe."
   ]
  },
  {
   "cell_type": "code",
   "execution_count": 17,
   "id": "32582289",
   "metadata": {},
   "outputs": [
    {
     "data": {
      "text/html": [
       "<div>\n",
       "<style scoped>\n",
       "    .dataframe tbody tr th:only-of-type {\n",
       "        vertical-align: middle;\n",
       "    }\n",
       "\n",
       "    .dataframe tbody tr th {\n",
       "        vertical-align: top;\n",
       "    }\n",
       "\n",
       "    .dataframe thead th {\n",
       "        text-align: right;\n",
       "    }\n",
       "</style>\n",
       "<table border=\"1\" class=\"dataframe\">\n",
       "  <thead>\n",
       "    <tr style=\"text-align: right;\">\n",
       "      <th></th>\n",
       "      <th>date</th>\n",
       "      <th>rating</th>\n",
       "      <th>review_text</th>\n",
       "    </tr>\n",
       "  </thead>\n",
       "  <tbody>\n",
       "    <tr>\n",
       "      <th>490</th>\n",
       "      <td>2021-08-04 19:11:00</td>\n",
       "      <td>5</td>\n",
       "      <td>Great airy space indoors, and lovely large pat...</td>\n",
       "    </tr>\n",
       "    <tr>\n",
       "      <th>491</th>\n",
       "      <td>2021-08-04 02:40:00</td>\n",
       "      <td>5</td>\n",
       "      <td>I went to the Yottaquest event that they were ...</td>\n",
       "    </tr>\n",
       "    <tr>\n",
       "      <th>492</th>\n",
       "      <td>2021-08-04 02:07:00</td>\n",
       "      <td>5</td>\n",
       "      <td>Great beer, metric tons of seating.</td>\n",
       "    </tr>\n",
       "    <tr>\n",
       "      <th>493</th>\n",
       "      <td>2021-08-03 17:52:00</td>\n",
       "      <td>5</td>\n",
       "      <td>Very cool brewery with a relaxed vibe and exce...</td>\n",
       "    </tr>\n",
       "    <tr>\n",
       "      <th>494</th>\n",
       "      <td>2021-08-01 01:18:00</td>\n",
       "      <td>5</td>\n",
       "      <td>NaN</td>\n",
       "    </tr>\n",
       "    <tr>\n",
       "      <th>495</th>\n",
       "      <td>2021-07-31 20:29:00</td>\n",
       "      <td>5</td>\n",
       "      <td>NaN</td>\n",
       "    </tr>\n",
       "    <tr>\n",
       "      <th>496</th>\n",
       "      <td>2021-07-31 11:54:00</td>\n",
       "      <td>5</td>\n",
       "      <td>Spacious and open. Great beer selection and ou...</td>\n",
       "    </tr>\n",
       "    <tr>\n",
       "      <th>497</th>\n",
       "      <td>2021-07-30 15:55:00</td>\n",
       "      <td>5</td>\n",
       "      <td>The only issues with this place are that the p...</td>\n",
       "    </tr>\n",
       "    <tr>\n",
       "      <th>498</th>\n",
       "      <td>2021-07-28 13:56:00</td>\n",
       "      <td>5</td>\n",
       "      <td>Great outdoor space for dogs! And the beer nev...</td>\n",
       "    </tr>\n",
       "    <tr>\n",
       "      <th>499</th>\n",
       "      <td>2021-07-27 03:09:00</td>\n",
       "      <td>5</td>\n",
       "      <td>NaN</td>\n",
       "    </tr>\n",
       "    <tr>\n",
       "      <th>500</th>\n",
       "      <td>2024-03-14 00:00:00</td>\n",
       "      <td>2</td>\n",
       "      <td>What has happened to Madtree? It was the best ...</td>\n",
       "    </tr>\n",
       "    <tr>\n",
       "      <th>501</th>\n",
       "      <td>2024-02-15 00:00:00</td>\n",
       "      <td>5</td>\n",
       "      <td>Great spot to hang out with a variety of optio...</td>\n",
       "    </tr>\n",
       "    <tr>\n",
       "      <th>502</th>\n",
       "      <td>2024-01-25 00:00:00</td>\n",
       "      <td>5</td>\n",
       "      <td>MadTree Brewing is an absolute gem with an inc...</td>\n",
       "    </tr>\n",
       "    <tr>\n",
       "      <th>503</th>\n",
       "      <td>2024-01-25 00:00:00</td>\n",
       "      <td>5</td>\n",
       "      <td>MadTree has long been our cherished gathering ...</td>\n",
       "    </tr>\n",
       "    <tr>\n",
       "      <th>504</th>\n",
       "      <td>2024-01-18 00:00:00</td>\n",
       "      <td>5</td>\n",
       "      <td>I love coming here whether it's after work or ...</td>\n",
       "    </tr>\n",
       "    <tr>\n",
       "      <th>505</th>\n",
       "      <td>2024-01-05 00:00:00</td>\n",
       "      <td>5</td>\n",
       "      <td>This was a great place to visit as my husband ...</td>\n",
       "    </tr>\n",
       "    <tr>\n",
       "      <th>506</th>\n",
       "      <td>2024-01-02 00:00:00</td>\n",
       "      <td>5</td>\n",
       "      <td>This is a Cincinnati must stop!! We loved our ...</td>\n",
       "    </tr>\n",
       "    <tr>\n",
       "      <th>507</th>\n",
       "      <td>2024-01-01 00:00:00</td>\n",
       "      <td>4</td>\n",
       "      <td>The space here is awesome! They have a massive...</td>\n",
       "    </tr>\n",
       "    <tr>\n",
       "      <th>508</th>\n",
       "      <td>2023-12-26 00:00:00</td>\n",
       "      <td>5</td>\n",
       "      <td>i love this place so much!! i love that i can ...</td>\n",
       "    </tr>\n",
       "    <tr>\n",
       "      <th>509</th>\n",
       "      <td>2023-12-22 00:00:00</td>\n",
       "      <td>3</td>\n",
       "      <td>The bartenders were absolutely amazing and nic...</td>\n",
       "    </tr>\n",
       "  </tbody>\n",
       "</table>\n",
       "</div>"
      ],
      "text/plain": [
       "                   date  rating  \\\n",
       "490 2021-08-04 19:11:00       5   \n",
       "491 2021-08-04 02:40:00       5   \n",
       "492 2021-08-04 02:07:00       5   \n",
       "493 2021-08-03 17:52:00       5   \n",
       "494 2021-08-01 01:18:00       5   \n",
       "495 2021-07-31 20:29:00       5   \n",
       "496 2021-07-31 11:54:00       5   \n",
       "497 2021-07-30 15:55:00       5   \n",
       "498 2021-07-28 13:56:00       5   \n",
       "499 2021-07-27 03:09:00       5   \n",
       "500 2024-03-14 00:00:00       2   \n",
       "501 2024-02-15 00:00:00       5   \n",
       "502 2024-01-25 00:00:00       5   \n",
       "503 2024-01-25 00:00:00       5   \n",
       "504 2024-01-18 00:00:00       5   \n",
       "505 2024-01-05 00:00:00       5   \n",
       "506 2024-01-02 00:00:00       5   \n",
       "507 2024-01-01 00:00:00       4   \n",
       "508 2023-12-26 00:00:00       5   \n",
       "509 2023-12-22 00:00:00       3   \n",
       "\n",
       "                                           review_text  \n",
       "490  Great airy space indoors, and lovely large pat...  \n",
       "491  I went to the Yottaquest event that they were ...  \n",
       "492                Great beer, metric tons of seating.  \n",
       "493  Very cool brewery with a relaxed vibe and exce...  \n",
       "494                                                NaN  \n",
       "495                                                NaN  \n",
       "496  Spacious and open. Great beer selection and ou...  \n",
       "497  The only issues with this place are that the p...  \n",
       "498  Great outdoor space for dogs! And the beer nev...  \n",
       "499                                                NaN  \n",
       "500  What has happened to Madtree? It was the best ...  \n",
       "501  Great spot to hang out with a variety of optio...  \n",
       "502  MadTree Brewing is an absolute gem with an inc...  \n",
       "503  MadTree has long been our cherished gathering ...  \n",
       "504  I love coming here whether it's after work or ...  \n",
       "505  This was a great place to visit as my husband ...  \n",
       "506  This is a Cincinnati must stop!! We loved our ...  \n",
       "507  The space here is awesome! They have a massive...  \n",
       "508  i love this place so much!! i love that i can ...  \n",
       "509  The bartenders were absolutely amazing and nic...  "
      ]
     },
     "execution_count": 17,
     "metadata": {},
     "output_type": "execute_result"
    }
   ],
   "source": [
    "consolidated_df[490: 510] # Where google reviews meet yelp reviews in the new consolidated df"
   ]
  },
  {
   "cell_type": "code",
   "execution_count": 18,
   "id": "3142caec",
   "metadata": {},
   "outputs": [
    {
     "data": {
      "text/plain": [
       "0       True\n",
       "1      False\n",
       "2      False\n",
       "3      False\n",
       "4       True\n",
       "       ...  \n",
       "637    False\n",
       "638    False\n",
       "639    False\n",
       "640    False\n",
       "641    False\n",
       "Name: review_text, Length: 642, dtype: bool"
      ]
     },
     "execution_count": 18,
     "metadata": {},
     "output_type": "execute_result"
    }
   ],
   "source": [
    "consolidated_df['review_text'].isna()"
   ]
  },
  {
   "cell_type": "code",
   "execution_count": 19,
   "id": "d006cfcc",
   "metadata": {},
   "outputs": [
    {
     "data": {
      "text/plain": [
       "date             0\n",
       "rating           0\n",
       "review_text    217\n",
       "dtype: int64"
      ]
     },
     "execution_count": 19,
     "metadata": {},
     "output_type": "execute_result"
    }
   ],
   "source": [
    "consolidated_df.isna().sum()"
   ]
  },
  {
   "cell_type": "markdown",
   "id": "7ada6e6d",
   "metadata": {},
   "source": [
    "Let's get rid of the rows with NaN values."
   ]
  },
  {
   "cell_type": "code",
   "execution_count": 20,
   "id": "0156728d",
   "metadata": {},
   "outputs": [],
   "source": [
    "cleaned_df = consolidated_df.dropna()"
   ]
  },
  {
   "cell_type": "code",
   "execution_count": 21,
   "id": "13fb153a",
   "metadata": {},
   "outputs": [
    {
     "data": {
      "text/plain": [
       "425"
      ]
     },
     "execution_count": 21,
     "metadata": {},
     "output_type": "execute_result"
    }
   ],
   "source": [
    "len(cleaned_df) # Should be 642 - 217 = 425"
   ]
  },
  {
   "cell_type": "markdown",
   "id": "23d05310",
   "metadata": {},
   "source": [
    "Now our data is all consolidated and the rows with missing review text have been removed. All that's left is to sort it by date."
   ]
  },
  {
   "cell_type": "code",
   "execution_count": 22,
   "id": "ac94a895",
   "metadata": {},
   "outputs": [],
   "source": [
    "sorted_df = cleaned_df.sort_values(by='date')"
   ]
  },
  {
   "cell_type": "code",
   "execution_count": 23,
   "id": "c5537137",
   "metadata": {},
   "outputs": [
    {
     "data": {
      "text/html": [
       "<div>\n",
       "<style scoped>\n",
       "    .dataframe tbody tr th:only-of-type {\n",
       "        vertical-align: middle;\n",
       "    }\n",
       "\n",
       "    .dataframe tbody tr th {\n",
       "        vertical-align: top;\n",
       "    }\n",
       "\n",
       "    .dataframe thead th {\n",
       "        text-align: right;\n",
       "    }\n",
       "</style>\n",
       "<table border=\"1\" class=\"dataframe\">\n",
       "  <thead>\n",
       "    <tr style=\"text-align: right;\">\n",
       "      <th></th>\n",
       "      <th>date</th>\n",
       "      <th>rating</th>\n",
       "      <th>review_text</th>\n",
       "    </tr>\n",
       "  </thead>\n",
       "  <tbody>\n",
       "    <tr>\n",
       "      <th>634</th>\n",
       "      <td>2021-07-03 00:00:00</td>\n",
       "      <td>4</td>\n",
       "      <td>I loved the food here so much. But I have to s...</td>\n",
       "    </tr>\n",
       "    <tr>\n",
       "      <th>633</th>\n",
       "      <td>2021-07-04 00:00:00</td>\n",
       "      <td>5</td>\n",
       "      <td>Awesome!! Love the space, large indoor space, ...</td>\n",
       "    </tr>\n",
       "    <tr>\n",
       "      <th>632</th>\n",
       "      <td>2021-07-08 00:00:00</td>\n",
       "      <td>4</td>\n",
       "      <td>Busy summer evening at happy hour so tables we...</td>\n",
       "    </tr>\n",
       "    <tr>\n",
       "      <th>631</th>\n",
       "      <td>2021-07-09 00:00:00</td>\n",
       "      <td>4</td>\n",
       "      <td>Been here a few times and the atmosphere is de...</td>\n",
       "    </tr>\n",
       "    <tr>\n",
       "      <th>630</th>\n",
       "      <td>2021-07-11 00:00:00</td>\n",
       "      <td>5</td>\n",
       "      <td>Just a fun place. Even though we are vaccinate...</td>\n",
       "    </tr>\n",
       "    <tr>\n",
       "      <th>...</th>\n",
       "      <td>...</td>\n",
       "      <td>...</td>\n",
       "      <td>...</td>\n",
       "    </tr>\n",
       "    <tr>\n",
       "      <th>5</th>\n",
       "      <td>2024-03-02 22:16:00</td>\n",
       "      <td>4</td>\n",
       "      <td>Super fun and active, great beer.</td>\n",
       "    </tr>\n",
       "    <tr>\n",
       "      <th>3</th>\n",
       "      <td>2024-03-08 02:07:00</td>\n",
       "      <td>5</td>\n",
       "      <td>Authentic place.  Great vibe</td>\n",
       "    </tr>\n",
       "    <tr>\n",
       "      <th>2</th>\n",
       "      <td>2024-03-08 09:55:00</td>\n",
       "      <td>5</td>\n",
       "      <td>Women's International Day at MadTree Brewery. ...</td>\n",
       "    </tr>\n",
       "    <tr>\n",
       "      <th>1</th>\n",
       "      <td>2024-03-08 10:42:00</td>\n",
       "      <td>5</td>\n",
       "      <td>Great selection of beer! We loved the atmosphere.</td>\n",
       "    </tr>\n",
       "    <tr>\n",
       "      <th>500</th>\n",
       "      <td>2024-03-14 00:00:00</td>\n",
       "      <td>2</td>\n",
       "      <td>What has happened to Madtree? It was the best ...</td>\n",
       "    </tr>\n",
       "  </tbody>\n",
       "</table>\n",
       "<p>425 rows × 3 columns</p>\n",
       "</div>"
      ],
      "text/plain": [
       "                   date  rating  \\\n",
       "634 2021-07-03 00:00:00       4   \n",
       "633 2021-07-04 00:00:00       5   \n",
       "632 2021-07-08 00:00:00       4   \n",
       "631 2021-07-09 00:00:00       4   \n",
       "630 2021-07-11 00:00:00       5   \n",
       "..                  ...     ...   \n",
       "5   2024-03-02 22:16:00       4   \n",
       "3   2024-03-08 02:07:00       5   \n",
       "2   2024-03-08 09:55:00       5   \n",
       "1   2024-03-08 10:42:00       5   \n",
       "500 2024-03-14 00:00:00       2   \n",
       "\n",
       "                                           review_text  \n",
       "634  I loved the food here so much. But I have to s...  \n",
       "633  Awesome!! Love the space, large indoor space, ...  \n",
       "632  Busy summer evening at happy hour so tables we...  \n",
       "631  Been here a few times and the atmosphere is de...  \n",
       "630  Just a fun place. Even though we are vaccinate...  \n",
       "..                                                 ...  \n",
       "5                    Super fun and active, great beer.  \n",
       "3                         Authentic place.  Great vibe  \n",
       "2    Women's International Day at MadTree Brewery. ...  \n",
       "1    Great selection of beer! We loved the atmosphere.  \n",
       "500  What has happened to Madtree? It was the best ...  \n",
       "\n",
       "[425 rows x 3 columns]"
      ]
     },
     "execution_count": 23,
     "metadata": {},
     "output_type": "execute_result"
    }
   ],
   "source": [
    "sorted_df"
   ]
  },
  {
   "cell_type": "code",
   "execution_count": 24,
   "id": "2cd3ea34",
   "metadata": {},
   "outputs": [],
   "source": [
    "# # Save sorted df to csv\n",
    "# sorted_df.to_csv(\"sorted.csv\", index=False)"
   ]
  },
  {
   "cell_type": "code",
   "execution_count": 30,
   "id": "a5cc2f0b",
   "metadata": {},
   "outputs": [],
   "source": [
    "# Add sentiment scores based on 'rating' column\n",
    "df = pd.read_csv(\"sorted.csv\")\n",
    "df['sentiment'] = df['rating'].apply(lambda x: 'positive' if x >= 4 else 'negative')"
   ]
  },
  {
   "cell_type": "code",
   "execution_count": null,
   "id": "4f41b7d2",
   "metadata": {},
   "outputs": [],
   "source": [
    "df"
   ]
  },
  {
   "cell_type": "code",
   "execution_count": 71,
   "id": "c3f94266",
   "metadata": {},
   "outputs": [],
   "source": [
    "# Let's make a copy of the dataframe in case we need to revert back\n",
    "df_copy = df"
   ]
  },
  {
   "cell_type": "markdown",
   "id": "b8c3f3cc",
   "metadata": {},
   "source": [
    "### Text Cleaning\n",
    "Let's clean the text to prepare it for analysis"
   ]
  },
  {
   "cell_type": "code",
   "execution_count": 51,
   "id": "22e4cbba",
   "metadata": {},
   "outputs": [
    {
     "name": "stderr",
     "output_type": "stream",
     "text": [
      "[nltk_data] Downloading package wordnet to\n",
      "[nltk_data]     C:\\Users\\rwynn\\AppData\\Roaming\\nltk_data...\n",
      "[nltk_data]   Package wordnet is already up-to-date!\n",
      "[nltk_data] Downloading package stopwords to\n",
      "[nltk_data]     C:\\Users\\rwynn\\AppData\\Roaming\\nltk_data...\n",
      "[nltk_data]   Package stopwords is already up-to-date!\n",
      "[nltk_data] Downloading package omw-1.4 to\n",
      "[nltk_data]     C:\\Users\\rwynn\\AppData\\Roaming\\nltk_data...\n"
     ]
    },
    {
     "data": {
      "text/plain": [
       "True"
      ]
     },
     "execution_count": 51,
     "metadata": {},
     "output_type": "execute_result"
    }
   ],
   "source": [
    "import re\n",
    "import nltk\n",
    "from nltk.corpus import stopwords\n",
    "from nltk.tokenize import word_tokenize\n",
    "from nltk.stem import WordNetLemmatizer\n",
    "nltk.download('wordnet')\n",
    "nltk.download('stopwords')\n",
    "nltk.download('omw-1.4')"
   ]
  },
  {
   "cell_type": "code",
   "execution_count": 49,
   "id": "5904fb20",
   "metadata": {},
   "outputs": [],
   "source": [
    "def clean_text(text):\n",
    "    # Convert text to lowercase\n",
    "    text = text.lower()\n",
    "    \n",
    "    # Remove special characters, punctuation, and numbers\n",
    "    text = re.sub(r'[^a-zA-Z\\s]', '', text)\n",
    "    \n",
    "    # Tokenize the text\n",
    "    tokens = word_tokenize(text)\n",
    "    \n",
    "    # Remove stopwords\n",
    "    stop_words = set(stopwords.words('english'))\n",
    "    tokens = [word for word in tokens if word not in stop_words]\n",
    "    \n",
    "    # Lemmatize words\n",
    "    lemmatizer = WordNetLemmatizer()\n",
    "    tokens = [lemmatizer.lemmatize(word) for word in tokens]\n",
    "    \n",
    "    # Join tokens back into a string\n",
    "    cleaned_text = ' '.join(tokens)\n",
    "    \n",
    "    return cleaned_text"
   ]
  },
  {
   "cell_type": "code",
   "execution_count": 52,
   "id": "ef659e75",
   "metadata": {},
   "outputs": [
    {
     "data": {
      "text/html": [
       "<div>\n",
       "<style scoped>\n",
       "    .dataframe tbody tr th:only-of-type {\n",
       "        vertical-align: middle;\n",
       "    }\n",
       "\n",
       "    .dataframe tbody tr th {\n",
       "        vertical-align: top;\n",
       "    }\n",
       "\n",
       "    .dataframe thead th {\n",
       "        text-align: right;\n",
       "    }\n",
       "</style>\n",
       "<table border=\"1\" class=\"dataframe\">\n",
       "  <thead>\n",
       "    <tr style=\"text-align: right;\">\n",
       "      <th></th>\n",
       "      <th>date</th>\n",
       "      <th>rating</th>\n",
       "      <th>review_text</th>\n",
       "      <th>sentiment</th>\n",
       "      <th>cleaned_review_text</th>\n",
       "    </tr>\n",
       "  </thead>\n",
       "  <tbody>\n",
       "    <tr>\n",
       "      <th>0</th>\n",
       "      <td>2021-07-03 00:00:00</td>\n",
       "      <td>4</td>\n",
       "      <td>I loved the food here so much. But I have to s...</td>\n",
       "      <td>positive</td>\n",
       "      <td>loved food much say service lacking food order...</td>\n",
       "    </tr>\n",
       "    <tr>\n",
       "      <th>1</th>\n",
       "      <td>2021-07-04 00:00:00</td>\n",
       "      <td>5</td>\n",
       "      <td>Awesome!! Love the space, large indoor space, ...</td>\n",
       "      <td>positive</td>\n",
       "      <td>awesome love space large indoor space even lar...</td>\n",
       "    </tr>\n",
       "    <tr>\n",
       "      <th>2</th>\n",
       "      <td>2021-07-08 00:00:00</td>\n",
       "      <td>4</td>\n",
       "      <td>Busy summer evening at happy hour so tables we...</td>\n",
       "      <td>positive</td>\n",
       "      <td>busy summer evening happy hour table little ha...</td>\n",
       "    </tr>\n",
       "    <tr>\n",
       "      <th>3</th>\n",
       "      <td>2021-07-09 00:00:00</td>\n",
       "      <td>4</td>\n",
       "      <td>Been here a few times and the atmosphere is de...</td>\n",
       "      <td>positive</td>\n",
       "      <td>time atmosphere decent beer well nothing reall...</td>\n",
       "    </tr>\n",
       "    <tr>\n",
       "      <th>4</th>\n",
       "      <td>2021-07-11 00:00:00</td>\n",
       "      <td>5</td>\n",
       "      <td>Just a fun place. Even though we are vaccinate...</td>\n",
       "      <td>positive</td>\n",
       "      <td>fun place even though vaccinated sat outside f...</td>\n",
       "    </tr>\n",
       "  </tbody>\n",
       "</table>\n",
       "</div>"
      ],
      "text/plain": [
       "                  date  rating  \\\n",
       "0  2021-07-03 00:00:00       4   \n",
       "1  2021-07-04 00:00:00       5   \n",
       "2  2021-07-08 00:00:00       4   \n",
       "3  2021-07-09 00:00:00       4   \n",
       "4  2021-07-11 00:00:00       5   \n",
       "\n",
       "                                         review_text sentiment  \\\n",
       "0  I loved the food here so much. But I have to s...  positive   \n",
       "1  Awesome!! Love the space, large indoor space, ...  positive   \n",
       "2  Busy summer evening at happy hour so tables we...  positive   \n",
       "3  Been here a few times and the atmosphere is de...  positive   \n",
       "4  Just a fun place. Even though we are vaccinate...  positive   \n",
       "\n",
       "                                 cleaned_review_text  \n",
       "0  loved food much say service lacking food order...  \n",
       "1  awesome love space large indoor space even lar...  \n",
       "2  busy summer evening happy hour table little ha...  \n",
       "3  time atmosphere decent beer well nothing reall...  \n",
       "4  fun place even though vaccinated sat outside f...  "
      ]
     },
     "execution_count": 52,
     "metadata": {},
     "output_type": "execute_result"
    }
   ],
   "source": [
    "df['cleaned_review_text'] = df['review_text'].apply(clean_text)\n",
    "df.head()"
   ]
  },
  {
   "cell_type": "markdown",
   "id": "51fc2692",
   "metadata": {},
   "source": [
    "### Exploratory Data Analysis (EDA)\n",
    "Let's explore the data a bit."
   ]
  },
  {
   "cell_type": "code",
   "execution_count": 53,
   "id": "d3805b9b",
   "metadata": {},
   "outputs": [],
   "source": [
    "import matplotlib.pyplot as plt"
   ]
  },
  {
   "cell_type": "code",
   "execution_count": 60,
   "id": "77a5c433",
   "metadata": {},
   "outputs": [
    {
     "data": {
      "text/plain": [
       "positive    0.868235\n",
       "negative    0.131765\n",
       "Name: sentiment, dtype: float64"
      ]
     },
     "execution_count": 60,
     "metadata": {},
     "output_type": "execute_result"
    }
   ],
   "source": [
    "sentiment_distribution = df['sentiment'].value_counts(normalize=True) # `normalize=True` returns percentages, `False` returns raw counts\n",
    "sentiment_distribution"
   ]
  },
  {
   "cell_type": "code",
   "execution_count": 70,
   "id": "b2572342",
   "metadata": {},
   "outputs": [
    {
     "data": {
      "image/png": "[encoded data removed]",
      "text/plain": [
       "<Figure size 800x600 with 1 Axes>"
      ]
     },
     "metadata": {},
     "output_type": "display_data"
    }
   ],
   "source": [
    "# Plot sentiment distribution\n",
    "plt.figure(figsize=(8, 6))\n",
    "sentiment_distribution.plot(kind='bar', color='skyblue')\n",
    "plt.title('Sentiment Distribution')\n",
    "plt.xlabel('Sentiment')\n",
    "plt.ylabel('Proportion')\n",
    "plt.xticks(rotation=0)\n",
    "plt.tight_layout()"
   ]
  },
  {
   "cell_type": "code",
   "execution_count": 87,
   "id": "737ed376",
   "metadata": {},
   "outputs": [
    {
     "data": {
      "text/plain": [
       "<Figure size 1000x600 with 0 Axes>"
      ]
     },
     "metadata": {},
     "output_type": "display_data"
    },
    {
     "data": {
      "image/png": "[encoded data removed]",
      "text/plain": [
       "<Figure size 640x480 with 1 Axes>"
      ]
     },
     "metadata": {},
     "output_type": "display_data"
    }
   ],
   "source": [
    "# Convert 'date' column to 'datetime' dtype if needed\n",
    "df['date'] = pd.to_datetime(df['date'])\n",
    "\n",
    "# Compare sentiment distribution across different time periods (e.g., months or years)\n",
    "df['year_month'] = df['date'].dt.to_period('M')\n",
    "sentiment_by_month = df.groupby(['year_month', 'sentiment']).size().unstack(fill_value=0)\n",
    "sentiment_by_month_percentage = sentiment_by_month.div(sentiment_by_month.sum(axis=1), axis=0)\n",
    "\n",
    "# Plot sentiment distribution over time\n",
    "plt.figure(figsize=(10, 6))\n",
    "sentiment_by_month_percentage.plot(kind='bar', stacked=True)\n",
    "plt.title('Sentiment Distribution Over Time')\n",
    "plt.xlabel('Year-Month')\n",
    "plt.ylabel('Proportion')\n",
    "plt.legend(title='Sentiment')\n",
    "plt.xticks(rotation=45, ha='right')\n",
    "plt.tight_layout()\n",
    "plt.show()"
   ]
  },
  {
   "cell_type": "code",
   "execution_count": null,
   "id": "6d3af7fb",
   "metadata": {},
   "outputs": [],
   "source": []
  }
 ],
 "metadata": {
  "kernelspec": {
   "display_name": "Python 3 (ipykernel)",
   "language": "python",
   "name": "python3"
  },
  "language_info": {
   "codemirror_mode": {
    "name": "ipython",
    "version": 3
   },
   "file_extension": ".py",
   "mimetype": "text/x-python",
   "name": "python",
   "nbconvert_exporter": "python",
   "pygments_lexer": "ipython3",
   "version": "3.10.9"
  }
 },
 "nbformat": 4,
 "nbformat_minor": 5
}
